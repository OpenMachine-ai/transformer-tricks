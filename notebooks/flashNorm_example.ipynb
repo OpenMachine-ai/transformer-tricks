{
 "cells": [
  {
   "cell_type": "markdown",
   "id": "90510ea6",
   "metadata": {},
   "source": [
    "This example converts the LLM SmolLM-135M to FlashNorm and measures\n",
    "perplexity of the original and the modified model.\n",
    "\n",
    "Usage:\n",
    "  python3 flashNorm_example.py\n",
    "\n",
    "Whenever you change this script, make sure to regenerate the\n",
    "jupyter notebook as follows:\n",
    "  pip install jupytext\n",
    "  jupytext --to notebook flashNorm_example.py -o ../notebooks/flashNorm_example.ipynb"
   ]
  },
  {
   "cell_type": "code",
   "execution_count": null,
   "id": "8b42eb99",
   "metadata": {},
   "outputs": [],
   "source": [
    "import os\n",
    "import transformer_tricks as tt"
   ]
  },
  {
   "cell_type": "code",
   "execution_count": null,
   "id": "d1bfe50a",
   "metadata": {},
   "outputs": [],
   "source": [
    "# convert model and store the new model in ./SmolLM-135M_flashNorm\n",
    "tt.flashify_repo('HuggingFaceTB/SmolLM-135M')"
   ]
  },
  {
   "cell_type": "code",
   "execution_count": null,
   "id": "3a1ec04f",
   "metadata": {},
   "outputs": [],
   "source": [
    "# run example inference of original and modified model\n",
    "tt.hello_world('HuggingFaceTB/SmolLM-135M')\n",
    "tt.hello_world('SmolLM-135M_flashNorm')"
   ]
  },
  {
   "cell_type": "code",
   "execution_count": null,
   "id": "a4ee772f",
   "metadata": {},
   "outputs": [],
   "source": [
    "# measure perplexity of original and modified model\n",
    "tt.perplexity('HuggingFaceTB/SmolLM-135M', speedup=16)\n",
    "tt.perplexity('SmolLM-135M_flashNorm', speedup=16)"
   ]
  }
 ],
 "metadata": {
  "jupytext": {
   "cell_metadata_filter": "-all",
   "main_language": "python",
   "notebook_metadata_filter": "-all"
  }
 },
 "nbformat": 4,
 "nbformat_minor": 5
}
