{
 "cells": [
  {
   "cell_type": "code",
   "execution_count": null,
   "id": "923c0ac0",
   "metadata": {},
   "outputs": [],
   "source": [
    "# This example converts SmolLM-135M to FlashNorm and measures\n",
    "# its perplexity before and after the conversion.\n",
    "#\n",
    "# Usage:\n",
    "#   python3 flashNorm_example.py\n",
    "\n",
    "%pip install transformer_tricks\n", "import transformer_tricks as tt"
   ]
  },
  {
   "cell_type": "code",
   "execution_count": null,
   "id": "0e2672bb",
   "metadata": {},
   "outputs": [],
   "source": [
    "# convert model and store the new model in ./SmolLM-135M_flashNorm\n",
    "tt.flashify_repo('HuggingFaceTB/SmolLM-135M')\n",
    "\n",
    "# run example inference of original and modified model\n",
    "tt.hello_world('HuggingFaceTB/SmolLM-135M')\n",
    "tt.hello_world('SmolLM-135M_flashNorm')\n",
    "\n",
    "# measure perplexity of original and modified model\n",
    "tt.perplexity('HuggingFaceTB/SmolLM-135M', speedup=16)\n",
    "tt.perplexity('SmolLM-135M_flashNorm', speedup=16)"
   ]
  },
  {
   "cell_type": "code",
   "execution_count": null,
   "id": "bf977eae",
   "metadata": {},
   "outputs": [],
   "source": [
    "# Whenever you change this script, make sure to regenerate the\n",
    "# jupyter notebook as follows:\n",
    "#   pip install jupytext\n",
    "# \\n%pip install transformer_tricks\n", "import transformer_tricks\n",
    "# \\n%pip install transformer-tricks\n",
    "#   jupytext --to ipynb flashNorm_example.py -o ../notebooks/flashNorm_example.ipynb\n",
    "#   sed -i -e 's/import \\\n",
    "#     transformer_tricks/%pip install transformer_tricks\\\\n\", \"%pip install transformer_tricks\n", "import transformer_tricks/g' \\\n",
    "#     ../notebooks/flashNorm_example.ipynb\n",
    "#   The sed command adds %pip install transformer-tricks"
   ]
  }
 ],
 "metadata": {
  "jupytext": {
   "cell_metadata_filter": "-all",
   "main_language": "python",
   "notebook_metadata_filter": "-all"
  }
 },
 "nbformat": 4,
 "nbformat_minor": 5
}
