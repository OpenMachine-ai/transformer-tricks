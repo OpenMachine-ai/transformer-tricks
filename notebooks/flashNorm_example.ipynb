{
 "cells": [
  {
   "cell_type": "code",
   "execution_count": null,
   "id": "4965bb3a",
   "metadata": {},
   "outputs": [],
   "source": [
    "# This example converts SmolLM-135M to FlashNorm and measures\n",
    "# its perplexity before and after the conversion.\n",
    "#\n",
    "# Usage:\n",
    "#   python3 flashNorm_example.py\n",
    "\n",
    "%pip install --quiet transformer_tricks\n", "import transformer_tricks as tt\n",
    "\n",
    "tt.quiet_hf()  # calm down HuggingFace\n",
    "\n",
    "# convert model and store the new model in ./SmolLM-135M_flashNorm\n",
    "tt.flashify_repo('HuggingFaceTB/SmolLM-135M')\n",
    "\n",
    "# run example inference of original and modified model\n",
    "tt.hello_world('HuggingFaceTB/SmolLM-135M')\n",
    "tt.hello_world('SmolLM-135M_flashNorm')\n",
    "\n",
    "# measure perplexity of original and modified model\n",
    "tt.perplexity('HuggingFaceTB/SmolLM-135M', speedup=16)\n",
    "tt.perplexity('SmolLM-135M_flashNorm', speedup=16)"
   ]
  },
  {
   "cell_type": "markdown",
   "id": "9dae0139",
   "metadata": {},
   "source": [
    "Whenever you change this file, make sure to regenerate the jupyter notebook as follows:\n",
    "  jupytext --to ipynb flashNorm_example.py -o ../notebooks/flashNorm_example.ipynb\n",
    "  sed -i -e 's/%pip install --quiet transformer_tricks\n", "import transformer_tricks/%pip install --quiet transformer_tricks\\\\n\", \"%pip install --quiet transformer_tricks\n", "import transformer_tricks/g'\n",
    "    ../notebooks/flashNorm_example.ipynb\n",
    "  The sed command adds %pip install --quiet transformer-tricks"
   ]
  }
 ],
 "metadata": {
  "jupytext": {
   "cell_metadata_filter": "-all",
   "main_language": "python",
   "notebook_metadata_filter": "-all"
  }
 },
 "nbformat": 4,
 "nbformat_minor": 5
}
