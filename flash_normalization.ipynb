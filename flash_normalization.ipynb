{
  "cells": [
    {
      "cell_type": "code",
      "execution_count": null,
      "metadata": {
        "id": "P9KAn1NGtAX3"
      },
      "outputs": [],
      "source": [
        "# code for paper 'Transformer tricks: flash normalization'\n",
        "\n",
        "import numpy as np\n",
        "\n",
        "# merge normalization weights g into weight matrix W\n",
        "def flashify(g, W):\n",
        "  Wnew = np.empty(W.shape)\n",
        "  for i in range(g.shape[0]):\n",
        "    Wnew[i, :] = g[i] * W[i, :]\n",
        "  return Wnew\n",
        "\n",
        "# alternative flashify (same as above but fewer lines)\n",
        "def flashify_alt(g, W):\n",
        "  G = np.repeat(g, W.shape[1]).reshape(W.shape)\n",
        "  return G * W  # elementwise multiply\n",
        "\n",
        "# reciprocal of RMS and activation functions\n",
        "def r_rms(x): return 1 / np.sqrt(np.mean(x**2))\n",
        "def r_ms(x): return 1 / np.mean(x**2)\n",
        "def relu(x): return np.maximum(0, x)\n",
        "def sigmoid(x): return 1 / (1 + np.exp(-x))\n",
        "def swish(x): return x * sigmoid(x)"
      ]
    },
    {
      "cell_type": "code",
      "source": [
        "# variables\n",
        "n = 4\n",
        "f = 6\n",
        "a = np.random.rand(n)  # row-vector\n",
        "g = np.random.rand(n)  # row-vector\n",
        "W = np.random.rand(n, n)\n",
        "UP = np.random.rand(n, f)\n",
        "GATE = np.random.rand(n, f)\n",
        "DOWN = np.random.rand(f, n)\n",
        "\n",
        "# derived variables\n",
        "s = r_rms(a)  # scaling factor\n",
        "Wstar = flashify(g, W)\n",
        "UPstar = flashify(g, UP)\n",
        "GATEstar = flashify(g, GATE)"
      ],
      "metadata": {
        "id": "yLty-2szRrDM"
      },
      "execution_count": null,
      "outputs": []
    },
    {
      "cell_type": "code",
      "source": [
        "# code for section 1 of paper\n",
        "\n",
        "# figures 1(a), 1(b), and 1(c) of paper\n",
        "z_fig1a = (r_rms(a) * a * g) @ W\n",
        "z_fig1b = (r_rms(a) * a) @ Wstar\n",
        "z_fig1c = (a @ Wstar) * r_rms(a)\n",
        "\n",
        "# compare against z_fig1a\n",
        "print(np.allclose(z_fig1b, z_fig1a), '  (fig1b is close to fig1a if True)')\n",
        "print(np.allclose(z_fig1c, z_fig1a), '  (fig1c is close to fig1a if True)')"
      ],
      "metadata": {
        "colab": {
          "base_uri": "https://localhost:8080/"
        },
        "id": "4YSv5p16ScE2",
        "outputId": "9c7b077e-1c1f-4a98-93f5-3d2a140e29b7"
      },
      "execution_count": null,
      "outputs": [
        {
          "output_type": "stream",
          "name": "stdout",
          "text": [
            "True   (fig1b is close to fig1a if True)\n",
            "True   (fig1c is close to fig1a if True)\n"
          ]
        }
      ]
    },
    {
      "cell_type": "code",
      "source": [
        "# code for section 2 of paper\n",
        "\n",
        "# reference and figures 2(a) and 2(b) of paper\n",
        "y_ref   = relu((s * a * g) @ UP) @ DOWN\n",
        "y_fig2a = relu((a @ UPstar) * s) @ DOWN\n",
        "y_fig2b = (relu(a @ UPstar) @ DOWN) * s\n",
        "\n",
        "# compare against y_ref\n",
        "print(np.allclose(y_fig2a, y_ref), '  (fig2a is close to reference if True)')\n",
        "print(np.allclose(y_fig2b, y_ref), '  (fig2b is close to reference if True)')"
      ],
      "metadata": {
        "colab": {
          "base_uri": "https://localhost:8080/"
        },
        "id": "HlUzIzR-VXlg",
        "outputId": "70c53e51-ca0c-47c6-e42d-46449454d0d6"
      },
      "execution_count": null,
      "outputs": [
        {
          "output_type": "stream",
          "name": "stdout",
          "text": [
            "True   (fig2a is close to reference if True)\n",
            "True   (fig2b is close to reference if True)\n"
          ]
        }
      ]
    },
    {
      "cell_type": "code",
      "source": [
        "# code for section 3 of paper\n",
        "\n",
        "# shortcuts\n",
        "a_norm = s * a * g\n",
        "a_gate, a_up = (a @ GATEstar), (a @ UPstar)\n",
        "\n",
        "# figure 3: reference and figures 3(a) and 3(b) of paper\n",
        "y_ref3  = ((a_norm @ GATE) * swish(a_norm @ UP)) @ DOWN\n",
        "y_fig3a = (a_gate * s * swish(a_up * s)) @ DOWN\n",
        "y_fig3b = ((a_gate * swish(a_up * s)) @ DOWN) * s\n",
        "\n",
        "# compare against y_ref3\n",
        "print(np.allclose(y_fig3a, y_ref3), '  (fig3a is close to reference if True)')\n",
        "print(np.allclose(y_fig3b, y_ref3), '  (fig3b is close to reference if True)')\n",
        "\n",
        "# figure 4: reference and figures 4(a) and 4(b) of paper\n",
        "y_ref4  = ((a_norm @ GATE) * relu(a_norm @ UP)) @ DOWN\n",
        "y_fig4a = (a_gate * s * relu(a_up * s)) @ DOWN\n",
        "y_fig4b = ((a_gate * relu(a_up)) @ DOWN) * r_ms(a)\n",
        "\n",
        "# compare against y_ref4\n",
        "print(np.allclose(y_fig4a, y_ref4), '  (fig4a is close to reference if True)')\n",
        "print(np.allclose(y_fig4b, y_ref4), '  (fig4b is close to reference if True)')"
      ],
      "metadata": {
        "colab": {
          "base_uri": "https://localhost:8080/"
        },
        "id": "3sVxcH8Q0MHt",
        "outputId": "e8b61fbf-c2e2-4e0a-9306-55dc25bd90f1"
      },
      "execution_count": null,
      "outputs": [
        {
          "output_type": "stream",
          "name": "stdout",
          "text": [
            "True   (fig3a is close to reference if True)\n",
            "True   (fig3b is close to reference if True)\n",
            "True   (fig4a is close to reference if True)\n",
            "True   (fig4b is close to reference if True)\n"
          ]
        }
      ]
    }
  ],
  "metadata": {
    "colab": {
      "provenance": []
    },
    "kernelspec": {
      "display_name": "Python 3",
      "name": "python3"
    },
    "language_info": {
      "name": "python"
    }
  },
  "nbformat": 4,
  "nbformat_minor": 0
}